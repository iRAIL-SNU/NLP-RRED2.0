{
 "cells": [
  {
   "cell_type": "code",
   "execution_count": 4,
   "metadata": {},
   "outputs": [],
   "source": [
    "import pandas as pd\n",
    "import json\n",
    "from tqdm import tqdm"
   ]
  },
  {
   "cell_type": "code",
   "execution_count": 8,
   "metadata": {},
   "outputs": [],
   "source": [
    "def get_previous(data_line, meta_w_report):\n",
    "    dicom_id = data_line['dicom_id']\n",
    "    subject_id = data_line['subject_id']\n",
    "    study_date = data_line['StudyDate']\n",
    "    subject_prev_df = meta_w_report[(meta_w_report['subject_id'] == subject_id )&( meta_w_report['StudyDate']<study_date)].sort_values(by='StudyDate', ascending=False)\n",
    "    if subject_prev_df.shape[0] != 0:\n",
    "        return subject_prev_df.iloc[0]\n",
    "    else:\n",
    "        return None"
   ]
  },
  {
   "cell_type": "code",
   "execution_count": 18,
   "metadata": {},
   "outputs": [],
   "source": [
    "def make_data_w_prev(data_path, output_path, meta_w_report_path='/home/data/mimic-cxr-jpg/2.0.0/rred/frontal.csv'):\n",
    "    meta_w_report = pd.read_csv(meta_w_report_path)\n",
    "    data = [json.loads(l) for l in open(data_path)]\n",
    "    for d in tqdm(data):\n",
    "        prev_df = get_previous(d, meta_w_report)\n",
    "        if prev_df is not None:        \n",
    "            d['prev_study_id'] = int(prev_df['study_id'])\n",
    "            d['prev_dicom_id'] = prev_df['dicom_id']\n",
    "            d['prev_Findings'] = prev_df['Findings']\n",
    "            d['prev_Impression'] = prev_df['Impression']\n",
    "        else:\n",
    "            d['prev_study_id'] = None\n",
    "            d['prev_dicom_id'] = None\n",
    "            d['prev_Findings'] = None\n",
    "            d['prev_Impression'] = None\n",
    "\n",
    "    with open(output_path, encoding= \"utf-8\",mode=\"w\") as file: \n",
    "        for i in data: file.write(json.dumps(i) + \"\\n\")\n",
    "        \n",
    "    print('done')"
   ]
  },
  {
   "cell_type": "code",
   "execution_count": 20,
   "metadata": {},
   "outputs": [
    {
     "name": "stderr",
     "output_type": "stream",
     "text": [
      "100%|██████████| 1002/1002 [00:01<00:00, 818.53it/s]\n"
     ]
    },
    {
     "name": "stdout",
     "output_type": "stream",
     "text": [
      "done\n"
     ]
    },
    {
     "name": "stderr",
     "output_type": "stream",
     "text": [
      "100%|██████████| 126439/126439 [02:36<00:00, 809.04it/s]\n"
     ]
    },
    {
     "name": "stdout",
     "output_type": "stream",
     "text": [
      "done\n"
     ]
    },
    {
     "name": "stderr",
     "output_type": "stream",
     "text": [
      "100%|██████████| 1494/1494 [00:01<00:00, 764.12it/s]"
     ]
    },
    {
     "name": "stdout",
     "output_type": "stream",
     "text": [
      "done\n"
     ]
    },
    {
     "name": "stderr",
     "output_type": "stream",
     "text": [
      "\n"
     ]
    }
   ],
   "source": [
    "make_data_w_prev(data_path='/home/data/mimic-cxr-jpg/2.0.0/rred/frontal_val.jsonl', output_path='/home/data/mimic-cxr-jpg/2.0.0/rred/frontal_val_w_prev.jsonl')\n",
    "make_data_w_prev(data_path='/home/data/mimic-cxr-jpg/2.0.0/rred/frontal_train.jsonl', output_path='/home/data/mimic-cxr-jpg/2.0.0/rred/frontal_train_w_prev.jsonl')\n",
    "make_data_w_prev(data_path='/home/data/mimic-cxr-jpg/2.0.0/rred/frontal_test.jsonl', output_path='/home/data/mimic-cxr-jpg/2.0.0/rred/frontal_test_w_prev.jsonl')"
   ]
  },
  {
   "cell_type": "code",
   "execution_count": 21,
   "metadata": {},
   "outputs": [
    {
     "name": "stderr",
     "output_type": "stream",
     "text": [
      "100%|██████████| 1200000/1200000 [24:35<00:00, 813.45it/s]\n"
     ]
    },
    {
     "name": "stdout",
     "output_type": "stream",
     "text": [
      "done\n"
     ]
    },
    {
     "name": "stderr",
     "output_type": "stream",
     "text": [
      "100%|██████████| 9990/9990 [00:12<00:00, 778.74it/s]\n"
     ]
    },
    {
     "name": "stdout",
     "output_type": "stream",
     "text": [
      "done\n"
     ]
    },
    {
     "name": "stderr",
     "output_type": "stream",
     "text": [
      "100%|██████████| 14990/14990 [00:20<00:00, 749.47it/s]\n"
     ]
    },
    {
     "name": "stdout",
     "output_type": "stream",
     "text": [
      "done\n"
     ]
    }
   ],
   "source": [
    "make_data_w_prev(\n",
    "    data_path='/home/data/mimic-cxr-jpg/2.0.0/rred/error_baseline_Mixed_FPI_v0.3/frontal_train_error_v1_to_v10.jsonl', \n",
    "    output_path='/home/data/mimic-cxr-jpg/2.0.0/rred/error_baseline_Mixed_FPI_v0.3/frontal_train_error_v1_to_v10_w_prev.jsonl')\n",
    "make_data_w_prev(\n",
    "    data_path='/home/data/mimic-cxr-jpg/2.0.0/rred/error_baseline_Mixed_FPI_v0.3/frontal_val_error_v1_to_v10.jsonl', \n",
    "    output_path='/home/data/mimic-cxr-jpg/2.0.0/rred/error_baseline_Mixed_FPI_v0.3/frontal_val_error_v1_to_v10_w_prev.jsonl')\n",
    "make_data_w_prev(\n",
    "    data_path='/home/data/mimic-cxr-jpg/2.0.0/rred/error_baseline_Mixed_FPI_v0.3/frontal_test_error_v1_to_v10.jsonl', \n",
    "    output_path='/home/data/mimic-cxr-jpg/2.0.0/rred/error_baseline_Mixed_FPI_v0.3/frontal_test_error_v1_to_v10_w_prev.jsonl')"
   ]
  },
  {
   "cell_type": "code",
   "execution_count": null,
   "metadata": {},
   "outputs": [],
   "source": []
  }
 ],
 "metadata": {
  "kernelspec": {
   "display_name": "Python 3.8.5",
   "language": "python",
   "name": "python3"
  },
  "language_info": {
   "codemirror_mode": {
    "name": "ipython",
    "version": 3
   },
   "file_extension": ".py",
   "mimetype": "text/x-python",
   "name": "python",
   "nbconvert_exporter": "python",
   "pygments_lexer": "ipython3",
   "version": "3.8.13"
  },
  "orig_nbformat": 4,
  "vscode": {
   "interpreter": {
    "hash": "d4d1e4263499bec80672ea0156c357c1ee493ec2b1c70f0acce89fc37c4a6abe"
   }
  }
 },
 "nbformat": 4,
 "nbformat_minor": 2
}
