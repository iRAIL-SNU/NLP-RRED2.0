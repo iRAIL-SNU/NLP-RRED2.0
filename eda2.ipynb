{
 "cells": [
  {
   "cell_type": "code",
   "execution_count": 1,
   "metadata": {},
   "outputs": [],
   "source": [
    "import json\n",
    "import os"
   ]
  },
  {
   "cell_type": "code",
   "execution_count": 17,
   "metadata": {},
   "outputs": [],
   "source": [
    "def aggregate_dataset(path, sets):\n",
    "    files = [f'frontal_{sets}_error_random_v{i+1}.jsonl' for i in range(10)]\n",
    "\n",
    "    data = []\n",
    "    for f in files:\n",
    "        data = data + [json.loads(l) for l in open(os.path.join(path,f))]\n",
    "\n",
    "    with open(os.path.join(path,f\"frontal_{sets}_error_v1_to_v10.jsonl\") , encoding= \"utf-8\",mode=\"w\") as file: \n",
    "        for i in data: file.write(json.dumps(i) + \"\\n\")"
   ]
  },
  {
   "cell_type": "code",
   "execution_count": 22,
   "metadata": {},
   "outputs": [],
   "source": [
    "path = \"/home/data/mimic-cxr-jpg/2.0.0/rred/error_baseline_Mixed_FPI_v0.3/\"\n",
    "\n",
    "aggregate_dataset(path, 'train')\n",
    "aggregate_dataset(path, 'val')\n",
    "aggregate_dataset(path, 'test')"
   ]
  },
  {
   "cell_type": "code",
   "execution_count": null,
   "metadata": {},
   "outputs": [],
   "source": [
    "하이퍼파라메터 서치/튜닝\n",
    "Grid search \n",
    "Random search\n",
    "\n",
    "\n",
    "\n"
   ]
  }
 ],
 "metadata": {
  "kernelspec": {
   "display_name": "Python 3.8.13 ('base')",
   "language": "python",
   "name": "python3"
  },
  "language_info": {
   "codemirror_mode": {
    "name": "ipython",
    "version": 3
   },
   "file_extension": ".py",
   "mimetype": "text/x-python",
   "name": "python",
   "nbconvert_exporter": "python",
   "pygments_lexer": "ipython3",
   "version": "3.8.13"
  },
  "orig_nbformat": 4,
  "vscode": {
   "interpreter": {
    "hash": "d4d1e4263499bec80672ea0156c357c1ee493ec2b1c70f0acce89fc37c4a6abe"
   }
  }
 },
 "nbformat": 4,
 "nbformat_minor": 2
}
