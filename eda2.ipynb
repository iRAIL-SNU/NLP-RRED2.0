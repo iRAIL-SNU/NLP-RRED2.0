{
 "cells": [
  {
   "cell_type": "code",
   "execution_count": 1,
   "metadata": {},
   "outputs": [],
   "source": [
    "import json\n",
    "import os"
   ]
  },
  {
   "cell_type": "code",
   "execution_count": 46,
   "metadata": {},
   "outputs": [],
   "source": [
    "def aggregate_dataset(path, sets):\n",
    "    files = [f'frontal_{sets}_error_uniform_dist_v{i+1}.jsonl' for i in range(10)]\n",
    "\n",
    "    data = []\n",
    "    for f in files:\n",
    "        data = data + [json.loads(l) for l in open(os.path.join(path,f))]\n",
    "\n",
    "    with open(os.path.join(path,f\"frontal_{sets}_error_v1_to_v10.jsonl\") , encoding= \"utf-8\",mode=\"w\") as file: \n",
    "        for i in data: file.write(json.dumps(i) + \"\\n\")"
   ]
  },
  {
   "cell_type": "code",
   "execution_count": 47,
   "metadata": {},
   "outputs": [],
   "source": [
    "path = \"/home/data/mimic-cxr-jpg/2.0.0/rred/error_baseline_Mixed_FPI_v0.3/uniform_dist\"\n",
    "\n",
    "aggregate_dataset(path, 'train')\n",
    "aggregate_dataset(path, 'val')\n",
    "aggregate_dataset(path, 'test')"
   ]
  },
  {
   "cell_type": "code",
   "execution_count": 64,
   "metadata": {},
   "outputs": [],
   "source": [
    "data = [json.loads(l) for l in open('/home/data/mimic-cxr-jpg/2.0.0/rred/error_baseline_Mixed_FPI_v0.3/uniform_dist/frontal_test_error_v1_to_v10.jsonl')]\n",
    "# data = [json.loads(l) for l in open('/home/data/mimic-cxr-jpg/2.0.0/rred/error_baseline_Mixed_FPI_v0.3/frontal_test_error_v1_to_v10.jsonl')]\n"
   ]
  },
  {
   "cell_type": "code",
   "execution_count": 65,
   "metadata": {},
   "outputs": [
    {
     "data": {
      "text/plain": [
       "10350"
      ]
     },
     "execution_count": 65,
     "metadata": {},
     "output_type": "execute_result"
    }
   ],
   "source": [
    "len(data)"
   ]
  },
  {
   "cell_type": "code",
   "execution_count": 66,
   "metadata": {},
   "outputs": [],
   "source": [
    "import pandas as pd"
   ]
  },
  {
   "cell_type": "code",
   "execution_count": 67,
   "metadata": {},
   "outputs": [],
   "source": [
    "data = pd.DataFrame(data)"
   ]
  },
  {
   "cell_type": "code",
   "execution_count": 68,
   "metadata": {},
   "outputs": [
    {
     "data": {
      "text/plain": [
       "unit_error                1150\n",
       "under_reading             1150\n",
       "satisfaction_of_search    1150\n",
       "numerical_error           1150\n",
       "faulty_reasoning_2        1150\n",
       "random_swap               1150\n",
       "complacency               1150\n",
       "laterality_error          1150\n",
       "faulty_reasoning_1        1150\n",
       "Name: error_subtype, dtype: int64"
      ]
     },
     "execution_count": 68,
     "metadata": {},
     "output_type": "execute_result"
    }
   ],
   "source": [
    "data['error_subtype'].value_counts()"
   ]
  },
  {
   "cell_type": "code",
   "execution_count": 35,
   "metadata": {},
   "outputs": [
    {
     "data": {
      "text/plain": [
       "9190"
      ]
     },
     "execution_count": 35,
     "metadata": {},
     "output_type": "execute_result"
    }
   ],
   "source": [
    "len(data)"
   ]
  },
  {
   "cell_type": "code",
   "execution_count": 36,
   "metadata": {},
   "outputs": [
    {
     "data": {
      "text/plain": [
       "0.1251360174102285"
      ]
     },
     "execution_count": 36,
     "metadata": {},
     "output_type": "execute_result"
    }
   ],
   "source": [
    "1150/9190"
   ]
  },
  {
   "cell_type": "code",
   "execution_count": null,
   "metadata": {},
   "outputs": [],
   "source": []
  },
  {
   "cell_type": "code",
   "execution_count": 44,
   "metadata": {},
   "outputs": [],
   "source": [
    "data = pd.DataFrame(data)"
   ]
  },
  {
   "cell_type": "code",
   "execution_count": 45,
   "metadata": {},
   "outputs": [
    {
     "data": {
      "text/plain": [
       "under_reading             7350\n",
       "satisfaction_of_search    4200\n",
       "laterality_error           940\n",
       "faulty_reasoning_1         900\n",
       "faulty_reasoning_2         900\n",
       "numerical_error            200\n",
       "unit_error                 200\n",
       "complacency                150\n",
       "random_swap                150\n",
       "Name: error_subtype, dtype: int64"
      ]
     },
     "execution_count": 45,
     "metadata": {},
     "output_type": "execute_result"
    }
   ],
   "source": [
    "data['error_subtype'].value_counts()"
   ]
  },
  {
   "cell_type": "code",
   "execution_count": 39,
   "metadata": {},
   "outputs": [],
   "source": [
    "data = pd.DataFrame(data)"
   ]
  },
  {
   "cell_type": "code",
   "execution_count": 40,
   "metadata": {},
   "outputs": [
    {
     "data": {
      "text/plain": [
       "numerical_error           85790\n",
       "laterality_error          85790\n",
       "random_swap               85790\n",
       "complacency               85790\n",
       "satisfaction_of_search    85790\n",
       "under_reading             85790\n",
       "unit_error                85790\n",
       "faulty_reasoning_2        42890\n",
       "faulty_reasoning_1        42890\n",
       "Name: error_subtype, dtype: int64"
      ]
     },
     "execution_count": 40,
     "metadata": {},
     "output_type": "execute_result"
    }
   ],
   "source": [
    "data['error_subtype'].value_counts()"
   ]
  },
  {
   "cell_type": "code",
   "execution_count": 41,
   "metadata": {},
   "outputs": [
    {
     "data": {
      "text/plain": [
       "0.12500182133438242"
      ]
     },
     "execution_count": 41,
     "metadata": {},
     "output_type": "execute_result"
    }
   ],
   "source": [
    "85790/686310"
   ]
  },
  {
   "cell_type": "code",
   "execution_count": null,
   "metadata": {},
   "outputs": [],
   "source": []
  }
 ],
 "metadata": {
  "kernelspec": {
   "display_name": "Python 3.8.13 ('base')",
   "language": "python",
   "name": "python3"
  },
  "language_info": {
   "codemirror_mode": {
    "name": "ipython",
    "version": 3
   },
   "file_extension": ".py",
   "mimetype": "text/x-python",
   "name": "python",
   "nbconvert_exporter": "python",
   "pygments_lexer": "ipython3",
   "version": "3.8.5"
  },
  "orig_nbformat": 4,
  "vscode": {
   "interpreter": {
    "hash": "d4d1e4263499bec80672ea0156c357c1ee493ec2b1c70f0acce89fc37c4a6abe"
   }
  }
 },
 "nbformat": 4,
 "nbformat_minor": 2
}
